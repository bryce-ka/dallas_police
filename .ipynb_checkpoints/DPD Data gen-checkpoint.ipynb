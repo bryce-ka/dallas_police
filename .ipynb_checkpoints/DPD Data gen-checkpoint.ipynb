{
 "cells": [
  {
   "cell_type": "code",
   "execution_count": 41,
   "id": "fc226387-a2e4-490b-a1f3-1573ce593fb5",
   "metadata": {
    "tags": []
   },
   "outputs": [],
   "source": [
    "import pandas as pd \n",
    "from sodapy import Socrata\n",
    "from pymongo import MongoClient\n",
    "import time\n",
    "import datetime"
   ]
  },
  {
   "cell_type": "code",
   "execution_count": 78,
   "id": "38c311af-bd9f-4c67-9be2-9fb82b9dfe3f",
   "metadata": {
    "tags": []
   },
   "outputs": [],
   "source": [
    "# api use - https://dev.socrata.com/foundry/www.dallasopendata.com/9fxf-t2tr\n",
    "#\n",
    "# client = Socrata('www.dallasopendata.com',\n",
    "#                  'KfIrXaHOglxeS3ELKoScuOmr8',\n",
    "#                  username=\"bryce_ka@hotmail.com\",\n",
    "#                  password=\"Bantho750451580!\")"
   ]
  },
  {
   "cell_type": "code",
   "execution_count": null,
   "id": "6c4aba6c-ddee-4181-a9c7-ad6f0473382b",
   "metadata": {},
   "outputs": [],
   "source": [
    "# data is only live so need to save data in a db for analytics "
   ]
  },
  {
   "cell_type": "code",
   "execution_count": 89,
   "id": "1aace880-036f-4d74-a458-a5251b050f1f",
   "metadata": {
    "tags": []
   },
   "outputs": [],
   "source": [
    "client = MongoClient()\n",
    "client.DallasPD_DB\n",
    "db  = client['DallasPD_DB']\n",
    "api_data = db.api_data\n",
    "running_data = db.running_db"
   ]
  },
  {
   "cell_type": "code",
   "execution_count": null,
   "id": "cb72efb5-3c6e-4dd8-a3d0-ecd2d5712c98",
   "metadata": {},
   "outputs": [],
   "source": [
    "# insert data into db "
   ]
  },
  {
   "cell_type": "code",
   "execution_count": 103,
   "id": "2470598d-5ac4-4b9b-8ab5-7db1c1975cb1",
   "metadata": {
    "tags": []
   },
   "outputs": [],
   "source": [
    "def pull_data():\n",
    "    results = client.get(\"9fxf-t2tr\", limit=2000)\n",
    "    # Convert to pandas DataFrame\n",
    "    results_df = pd.DataFrame.from_records(results)\n",
    "    results_df['date'] = pd.to_datetime(results_df['date'], dayfirst = True)\n",
    "    return results_df\n",
    "\n",
    "def data_pull_timer(m):\n",
    "    # Calculate the total number of seconds\n",
    "    total_seconds =  m * 60\n",
    "    total_seconds+=1\n",
    "    # While loop that checks if total_seconds reaches zero\n",
    "    # If not zero, decrement total time by one second\n",
    "    while total_seconds > 0:\n",
    "        # Timer represents time left on countdown\n",
    "        timer = datetime.timedelta(seconds = total_seconds)\n",
    "        # Prints the time left on the timer\n",
    "        print(timer, end=\"\\r\")\n",
    "        # Delays the program one second\n",
    "        time.sleep(1)\n",
    "        # Reduces total time by one second\n",
    "        total_seconds -= 1\n",
    "    results_df = pull_data()\n",
    "    return results_df"
   ]
  },
  {
   "cell_type": "code",
   "execution_count": null,
   "id": "936f58d4-dcf9-45b6-bc45-2096f6135eca",
   "metadata": {
    "tags": []
   },
   "outputs": [
    {
     "name": "stdout",
     "output_type": "stream",
     "text": [
      "Empty DataFrame\n",
      "Columns: [incident_number, division, nature_of_call, priority, date, time, unit_number, location, beat, reporting_area, status, block]\n",
      "Index: []\n",
      "0:02:00\r"
     ]
    }
   ],
   "source": [
    "client = Socrata('www.dallasopendata.com',\n",
    "                 'KfIrXaHOglxeS3ELKoScuOmr8',\n",
    "                 username=\"bryce_ka@hotmail.com\",\n",
    "                 password=\"Bantho750451580!\")\n",
    "\n",
    "pulled_data = pull_data()\n",
    "api_data.insert_many(pulled_data.to_dict('records'))\n",
    "running_data.insert_many(pulled_data.to_dict('records'))\n",
    "\n",
    "count = True\n",
    "while count != False:\n",
    "    # get current db \n",
    "    running = pd.DataFrame(list(running_data.find())).drop('_id', axis = 1)\n",
    "    \n",
    "    # update the constant db for the application or program \n",
    "    # 1. identify new rows using incident number date time unit number \n",
    "    updated_df = pd.concat([running, pulled_data], axis=0).drop_duplicates()\n",
    "    running = pd.DataFrame(list(running_data.find()))\n",
    "    new_documents = updated_df.merge(running, how='left', on=['incident_number', 'date', 'time', 'unit_number'], suffixes=('', '_y'))\n",
    "    new_documents = new_documents[new_documents['_id'].isnull()][['incident_number', 'division', 'nature_of_call', 'priority', 'date', 'time', 'unit_number', 'location', 'beat', 'reporting_area', 'status', 'block']]\n",
    "    print(new_documents)\n",
    "    \n",
    "   \n",
    "    \n",
    "    \n",
    "    # \n",
    "#     running_data.insert_many(updated_df.to_dict('records'))\n",
    "#     dpd_db.insert_many(api_data.to_dict('records'))\n",
    "    \n",
    "    # re initialize client \n",
    "    client = Socrata('www.dallasopendata.com',\n",
    "                 'KfIrXaHOglxeS3ELKoScuOmr8',\n",
    "                 username=\"bryce_ka@hotmail.com\",\n",
    "                 password=\"Bantho750451580!\")\n",
    "    # pull past 2 minutes of data \n",
    "    pulled_data = data_pull_timer(2)\n",
    "    "
   ]
  }
 ],
 "metadata": {
  "kernelspec": {
   "display_name": "Python 3 (ipykernel)",
   "language": "python",
   "name": "python3"
  },
  "language_info": {
   "codemirror_mode": {
    "name": "ipython",
    "version": 3
   },
   "file_extension": ".py",
   "mimetype": "text/x-python",
   "name": "python",
   "nbconvert_exporter": "python",
   "pygments_lexer": "ipython3",
   "version": "3.11.4"
  }
 },
 "nbformat": 4,
 "nbformat_minor": 5
}
